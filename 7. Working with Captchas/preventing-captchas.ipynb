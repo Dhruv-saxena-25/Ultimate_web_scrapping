{
 "cells": [
  {
   "cell_type": "code",
   "execution_count": 2,
   "id": "699a6f6b",
   "metadata": {},
   "outputs": [],
   "source": [
    "import cv2\n",
    "import time\n",
    "import pytesseract\n",
    "import numpy as np\n",
    "from PIL import Image\n",
    "from selenium import webdriver\n",
    "from selenium.webdriver.common.by import By"
   ]
  },
  {
   "cell_type": "markdown",
   "id": "2bc18588",
   "metadata": {},
   "source": [
    "## 1. Using the input() function"
   ]
  },
  {
   "cell_type": "code",
   "execution_count": null,
   "id": "7da5ee69",
   "metadata": {},
   "outputs": [],
   "source": [
    "driver = webdriver.Chrome()\n",
    "driver.maximize_window()\n",
    "\n",
    "url = 'https://www.hackthissite.org/user/login'\n",
    "driver.get(url)\n",
    "time.sleep(2)\n",
    "\n",
    "\n",
    "username_field = driver.find_element(By.ID, 'login_username')\n",
    "password_field = driver.find_element(By.ID, 'login_password')\n",
    "login_button = driver.find_element(By.XPATH, '/html/body/table/tbody/tr[2]/td/table/tbody/tr/td[2]/form/table/tbody/tr[4]/td/input')\n",
    "\n",
    "username_field.send_keys('abc')\n",
    "password_field.send_keys('1234')\n",
    "login_button.click()\n",
    "time.sleep(5)    \n",
    "\n",
    "captcha_xpath = '/html/body/table/tbody/tr[2]/td/table/tbody/tr/td[2]/form/table/tbody/tr[5]/td/img'\n",
    "captcha_element  = driver.find_element(By.XPATH, captcha_xpath)   \n",
    "\n",
    "if captcha_element:\n",
    "    x = input('This will halt the script.. solve your Captcha..')\n",
    "\n",
    "print('\\nCaptcha handled! Write rest of the script..')\n",
    "time.sleep(1)\n",
    "driver.quit()\n",
    "\n"
   ]
  },
  {
   "cell_type": "markdown",
   "id": "029f7ba8",
   "metadata": {},
   "source": [
    "## 2. Using `OpenCV`, `PIL`, `pytesseract` and `Numpy`"
   ]
  },
  {
   "cell_type": "code",
   "execution_count": 6,
   "id": "c9b951b6",
   "metadata": {},
   "outputs": [],
   "source": [
    "pytesseract.pytesseract.tesseract_cmd = r\"C:\\Program Files\\Tesseract-OCR\\tesseract.exe\""
   ]
  },
  {
   "cell_type": "code",
   "execution_count": 10,
   "id": "15220ff5",
   "metadata": {},
   "outputs": [
    {
     "name": "stdout",
     "output_type": "stream",
     "text": [
      "Detected captcha text: X48 ages\n"
     ]
    }
   ],
   "source": [
    "driver = webdriver.Chrome()\n",
    "driver.maximize_window()\n",
    "\n",
    "url = 'https://www.hackthissite.org/user/login'\n",
    "driver.get(url)\n",
    "time.sleep(2)\n",
    "\n",
    "username_field = driver.find_element(By.ID, 'login_username')\n",
    "password_field = driver.find_element(By.ID, 'login_password')\n",
    "login_button = driver.find_element(By.XPATH, '/html/body/table/tbody/tr[2]/td/table/tbody/tr/td[2]/form/table/tbody/tr[4]/td/input')\n",
    "\n",
    "username_field.send_keys('abc')\n",
    "password_field.send_keys('1234')\n",
    "login_button.click()\n",
    "time.sleep(5)\n",
    "\n",
    "\n",
    "try:\n",
    "    captcha_xpath = '/html/body/table/tbody/tr[2]/td/table/tbody/tr/td[2]/form/table/tbody/tr[5]/td/img'\n",
    "    captcha_image  = driver.find_element(By.XPATH, captcha_xpath)   \n",
    "    driver.save_screenshot('webpage.png')\n",
    "    \n",
    "    # Cropping the captcha from the screenshot\n",
    "    location = captcha_image.location\n",
    "    size = captcha_image.size\n",
    "    device_pixel_ratio = driver.execute_script(\"return window.devicePixelRatio;\")\n",
    "    x = int(location['x'] * device_pixel_ratio)\n",
    "    y = int(location['y'] * device_pixel_ratio)\n",
    "    w = int(size['width'] * device_pixel_ratio)\n",
    "    h = int(size['height'] * device_pixel_ratio)\n",
    "    \n",
    "    # Using PIL to crop the captcha\n",
    "    img = Image.open('webpage.png')\n",
    "    captcha_image = img.crop((x, y, x + w, y + h))\n",
    "    captcha_image.save('captcha.png')\n",
    "    \n",
    "    # Converting the captcha image to OpenCV format\n",
    "    captcha_cv = np.array(captcha_image)\n",
    "    captcha_cv = cv2.cvtColor(captcha_cv, cv2.COLOR_RGB2BGR)\n",
    "    gray = cv2.cvtColor(captcha_cv, cv2.COLOR_BGR2GRAY)\n",
    "    \n",
    "    # Applying image processing techniques\n",
    "    blured = cv2.medianBlur(gray, 3)\n",
    "    _, thresh = cv2.threshold(blured, 0, 255, cv2.THRESH_BINARY + cv2.THRESH_OTSU)\n",
    "    kernel = np.ones((2, 2), np.uint8)\n",
    "    thresh = cv2.dilate(thresh, kernel, iterations=1)\n",
    "    cv2.imwrite('processed_captcha.png', thresh) # Save processed image for debugging\n",
    "    \n",
    "    # Using pytesseract to extract text\n",
    "    captcha_text = pytesseract.image_to_string(Image.fromarray(thresh), config='--psm 8').strip()\n",
    "    print(f'Detected captcha text: {captcha_text}')\n",
    "    \n",
    "    # Filling the form again with captcha\n",
    "    if captcha_text:\n",
    "        username_field = driver.find_element(By.ID, 'login_username')\n",
    "        password_field = driver.find_element(By.ID, 'login_password')\n",
    "        captcha_field = driver.find_element(By.XPATH, '/html[1]/body[1]/table[1]/tbody[1]/tr[2]/td[1]/table[1]/tbody[1]/tr[1]/td[2]/form[1]/table[1]/tbody[1]/tr[4]/td[2]/input[1]')\n",
    "        login_button = driver.find_element(By.XPATH, '/html/body/table/tbody/tr[2]/td/table/tbody/tr/td[2]/form/table/tbody/tr[4]/td/input')\n",
    "\n",
    "        username_field.clear()\n",
    "        password_field.clear()\n",
    "        captcha_field.clear()\n",
    "\n",
    "        username_field.send_keys('abc')\n",
    "        password_field.send_keys('1234')\n",
    "        captcha_field.send_keys(captcha_text)\n",
    "        login_button.click()\n",
    "    else:\n",
    "        print('Unable to read Captcha.')\n",
    "\n",
    "except Exception as e:\n",
    "    print(f\"An error occurred: {e}\")\n",
    "   \n",
    "finally:\n",
    "    time.sleep(2)\n",
    "    driver.quit()\n",
    "\n"
   ]
  },
  {
   "cell_type": "code",
   "execution_count": null,
   "id": "215a34e3",
   "metadata": {},
   "outputs": [],
   "source": []
  }
 ],
 "metadata": {
  "kernelspec": {
   "display_name": "genai",
   "language": "python",
   "name": "python3"
  },
  "language_info": {
   "codemirror_mode": {
    "name": "ipython",
    "version": 3
   },
   "file_extension": ".py",
   "mimetype": "text/x-python",
   "name": "python",
   "nbconvert_exporter": "python",
   "pygments_lexer": "ipython3",
   "version": "3.11.11"
  }
 },
 "nbformat": 4,
 "nbformat_minor": 5
}
