{
 "cells": [
  {
   "cell_type": "code",
   "execution_count": 1,
   "id": "abdb97c1",
   "metadata": {},
   "outputs": [],
   "source": [
    "from pprint import pprint\n",
    "import requests"
   ]
  },
  {
   "cell_type": "code",
   "execution_count": 2,
   "id": "bd26c257",
   "metadata": {},
   "outputs": [
    {
     "name": "stdout",
     "output_type": "stream",
     "text": [
      "2.32.3\n"
     ]
    }
   ],
   "source": [
    "print(requests.__version__)"
   ]
  },
  {
   "cell_type": "markdown",
   "id": "3619e662",
   "metadata": {},
   "source": [
    "# 3. GET\n",
    "## 3.1\n",
    "- send a request to GitHub API and printing the response\n",
    "- print the status code and the contents\n",
    "- GitHub API: https://api.github.com"
   ]
  },
  {
   "cell_type": "code",
   "execution_count": 3,
   "id": "9942dac9",
   "metadata": {},
   "outputs": [
    {
     "data": {
      "text/plain": [
       "<Response [200]>"
      ]
     },
     "execution_count": 3,
     "metadata": {},
     "output_type": "execute_result"
    }
   ],
   "source": [
    "uri = \"https://api.github.com\"\n",
    "response = requests.get(uri)\n",
    "response"
   ]
  },
  {
   "cell_type": "code",
   "execution_count": 4,
   "id": "dbfa15ff",
   "metadata": {},
   "outputs": [
    {
     "data": {
      "text/plain": [
       "200"
      ]
     },
     "execution_count": 4,
     "metadata": {},
     "output_type": "execute_result"
    }
   ],
   "source": [
    "response.status_code"
   ]
  },
  {
   "cell_type": "code",
   "execution_count": 5,
   "id": "75695b6f",
   "metadata": {},
   "outputs": [
    {
     "name": "stdout",
     "output_type": "stream",
     "text": [
      "(b'{\"current_user_url\":\"https://api.github.com/user\",\"current_user_authorizatio'\n",
      " b'ns_html_url\":\"https://github.com/settings/connections/applications{/client_i'\n",
      " b'd}\",\"authorizations_url\":\"https://api.github.com/authorizations\",\"code_searc'\n",
      " b'h_url\":\"https://api.github.com/search/code?q={query}{&page,per_page,sort,ord'\n",
      " b'er}\",\"commit_search_url\":\"https://api.github.com/search/commits?q={query}{&p'\n",
      " b'age,per_page,sort,order}\",\"emails_url\":\"https://api.github.com/user/emails\",'\n",
      " b'\"emojis_url\":\"https://api.github.com/emojis\",\"events_url\":\"https://api.githu'\n",
      " b'b.com/events\",\"feeds_url\":\"https://api.github.com/feeds\",\"followers_url\":\"ht'\n",
      " b'tps://api.github.com/user/followers\",\"following_url\":\"https://api.github.com'\n",
      " b'/user/following{/target}\",\"gists_url\":\"https://api.github.com/gists{/gist_id'\n",
      " b'}\",\"hub_url\":\"https://api.github.com/hub\",\"issue_search_url\":\"https://api.gi'\n",
      " b'thub.com/search/issues?q={query}{&page,per_page,sort,order}\",\"issues_url\":\"h'\n",
      " b'ttps://api.github.com/issues\",\"keys_url\":\"https://api.github.com/user/keys\",'\n",
      " b'\"label_searc')\n"
     ]
    }
   ],
   "source": [
    "pprint(response.content[:1000])"
   ]
  },
  {
   "cell_type": "markdown",
   "id": "757aa398",
   "metadata": {},
   "source": [
    "## 3.2\n",
    "- use query parameters in a GET message\n",
    "- search for all GitHub repositories that contain the word requests and the main language used is python\n",
    "- GitHub repository search API: https://api.github.com/search/repositories"
   ]
  },
  {
   "cell_type": "code",
   "execution_count": 6,
   "id": "5cfa82e2",
   "metadata": {},
   "outputs": [],
   "source": [
    "uri = \"https://api.github.com/search/repositories\""
   ]
  },
  {
   "cell_type": "code",
   "execution_count": 7,
   "id": "c6bdaee6",
   "metadata": {},
   "outputs": [],
   "source": [
    "params = {'q': \"requests+language:python\"} "
   ]
  },
  {
   "cell_type": "code",
   "execution_count": 8,
   "id": "5eaa4f15",
   "metadata": {},
   "outputs": [
    {
     "data": {
      "text/plain": [
       "<Response [200]>"
      ]
     },
     "execution_count": 8,
     "metadata": {},
     "output_type": "execute_result"
    }
   ],
   "source": [
    "response = requests.get(uri, params=params)\n",
    "response"
   ]
  },
  {
   "cell_type": "code",
   "execution_count": 9,
   "id": "8ae0074d",
   "metadata": {},
   "outputs": [
    {
     "name": "stdout",
     "output_type": "stream",
     "text": [
      "(b'{\"total_count\":284,\"incomplete_results\":false,\"items\":[{\"id\":33210074,\"node_'\n",
      " b'id\":\"MDEwOlJlcG9zaXRvcnkzMzIxMDA3NA==\",\"name\":\"secrules-language-evaluation\"'\n",
      " b',\"full_name\":\"SpiderLabs/secrules-language-evaluation\",\"private\":false,\"owne'\n",
      " b'r\":{\"login\":\"SpiderLabs\",\"id\":508521,\"node_id\":\"MDEyOk9yZ2FuaXphdGlvbjUwODUy'\n",
      " b'MQ==\",\"avatar_url\":\"https://avatars.githubusercontent.com/u/508521?v=4\",\"gra'\n",
      " b'vatar_id\":\"\",\"url\":\"https://api.github.com/users/SpiderLabs\",\"html_url\":\"htt'\n",
      " b'ps://github.com/SpiderLabs\",\"followers_url\":\"https://api.github.com/users/Sp'\n",
      " b'iderLabs/followers\",\"following_url\":\"https://api.github.com/users/SpiderLabs'\n",
      " b'/following{/other_user}\",\"gists_url\":\"https://api.github.com/users/SpiderLab'\n",
      " b's/gists{/gist_id}\",\"starred_url\":\"https://api.github.com/users/SpiderLabs/st'\n",
      " b'arred{/owner}{/repo}\",\"subscriptions_url\":\"https://api.github.com/users/Spid'\n",
      " b'erLabs/subscriptions\",\"organizations_url\":\"https://api.github.com/users/Spid'\n",
      " b'erLabs/orgs\",\"repos_url\":\"https://api.github.com/users/SpiderLabs/repos\",\"ev'\n",
      " b'ents_url\":\"https://api.github.com/users/SpiderLabs/events{/privacy}\",\"receiv'\n",
      " b'ed_events_url\":\"https://api.github.com/users/SpiderLabs/received_events\",\"ty'\n",
      " b'pe\":\"Organization\",\"user_view_type\":\"public\",\"site_admin\":false},\"html_url\":'\n",
      " b'\"https://github.com/SpiderLabs/secrules-language-evaluation\",\"description\":\"'\n",
      " b'Set of Python scripts to perform SecRules language evaluation on a given htt'\n",
      " b'p request.\",\"fork\":false,\"url\":\"https://api.github.com/repos/SpiderLabs/secr'\n",
      " b'ules-language-evaluation\",\"forks_url\":\"https://api.github.com/repos/SpiderLa'\n",
      " b'bs/secrules-language-evaluation/forks\",\"keys_url\":\"https://api.github.com/re'\n",
      " b'pos/SpiderLabs/secrules-language-evaluation/keys{/key_id}\",\"collaborators_ur'\n",
      " b'l\":\"https://api.github.com/repos/SpiderLabs/secrules-language-evaluation/col'\n",
      " b'laborators{/collaborator}\",\"teams_url\":\"https://api.github.com/repos/SpiderL'\n",
      " b'abs/secrules-language-evaluation/teams\",\"hooks_url\":\"https://api.github.com/'\n",
      " b'repos/SpiderLabs/secrules-language-evaluation/hooks\",\"issue_events_url\":\"htt'\n",
      " b'ps://api.github.com/repo')\n"
     ]
    }
   ],
   "source": [
    "pprint(response.content[:2000])"
   ]
  },
  {
   "cell_type": "markdown",
   "id": "6e23386a",
   "metadata": {},
   "source": [
    "# 4. POST"
   ]
  },
  {
   "cell_type": "code",
   "execution_count": 10,
   "id": "e34329fe",
   "metadata": {},
   "outputs": [],
   "source": [
    "def get_data_format(rcvd_response):\n",
    "\tjson_response = rcvd_response.json()\n",
    "\tdata_format = json_response['headers']['Content-Type'].split(\"/\")[-1]\n",
    "\tprint(f\"Response data format: {data_format}\")\n",
    " "
   ]
  },
  {
   "cell_type": "markdown",
   "id": "3832a4c5",
   "metadata": {},
   "source": [
    "## 4.1 POST\n",
    "- send some data to a test server\n",
    "- server address: https://httpbin.org/post"
   ]
  },
  {
   "cell_type": "code",
   "execution_count": 11,
   "id": "cb34fad0",
   "metadata": {},
   "outputs": [],
   "source": [
    "uri = \"https://httpbin.org/post\""
   ]
  },
  {
   "cell_type": "code",
   "execution_count": 12,
   "id": "f2573cdc",
   "metadata": {},
   "outputs": [],
   "source": [
    "data = {\n",
    "    \"username\": \"bruce\", \n",
    "    \"password\": \"bruce123\"\n",
    "}"
   ]
  },
  {
   "cell_type": "code",
   "execution_count": 13,
   "id": "99275875",
   "metadata": {},
   "outputs": [
    {
     "data": {
      "text/plain": [
       "<Response [200]>"
      ]
     },
     "execution_count": 13,
     "metadata": {},
     "output_type": "execute_result"
    }
   ],
   "source": [
    "response = requests.post(uri, data=data)\n",
    "response"
   ]
  },
  {
   "cell_type": "code",
   "execution_count": 14,
   "id": "642874ed",
   "metadata": {},
   "outputs": [
    {
     "data": {
      "text/plain": [
       "200"
      ]
     },
     "execution_count": 14,
     "metadata": {},
     "output_type": "execute_result"
    }
   ],
   "source": [
    "response.status_code"
   ]
  },
  {
   "cell_type": "code",
   "execution_count": 15,
   "id": "82a3b6a5",
   "metadata": {},
   "outputs": [
    {
     "name": "stdout",
     "output_type": "stream",
     "text": [
      "(b'{\\n  \"args\": {}, \\n  \"data\": \"\", \\n  \"files\": {}, \\n  \"form\": {\\n    \"pas'\n",
      " b'sword\": \"bruce123\", \\n    \"username\": \"bruce\"\\n  }, \\n  \"headers\": {\\n    \"A'\n",
      " b'ccept\": \"*/*\", \\n    \"Accept-Encoding\": \"gzip, deflate, br, zstd\", \\n    \"'\n",
      " b'Content-Length\": \"32\", \\n    \"Content-Type\": \"application/x-www-form-urle'\n",
      " b'ncoded\", \\n    \"Host\": \"httpbin.org\", \\n    \"User-Agent\": \"python-requests'\n",
      " b'/2.32.3\", \\n    \"X-Amzn-Trace-Id\": \"Root=1-68bdb468-3776fa8775fffce221558'\n",
      " b'c1c\"\\n  }, \\n  \"json\": null, \\n  \"origin\": \"110.235.219.122\", \\n  \"url\": \"ht'\n",
      " b'tps://httpbin.org/post\"\\n}\\n')\n"
     ]
    }
   ],
   "source": [
    "pprint(response.content)"
   ]
  },
  {
   "cell_type": "code",
   "execution_count": 16,
   "id": "49047433",
   "metadata": {},
   "outputs": [
    {
     "data": {
      "text/plain": [
       "{'args': {},\n",
       " 'data': '',\n",
       " 'files': {},\n",
       " 'form': {'password': 'bruce123', 'username': 'bruce'},\n",
       " 'headers': {'Accept': '*/*',\n",
       "  'Accept-Encoding': 'gzip, deflate, br, zstd',\n",
       "  'Content-Length': '32',\n",
       "  'Content-Type': 'application/x-www-form-urlencoded',\n",
       "  'Host': 'httpbin.org',\n",
       "  'User-Agent': 'python-requests/2.32.3',\n",
       "  'X-Amzn-Trace-Id': 'Root=1-68bdb468-3776fa8775fffce221558c1c'},\n",
       " 'json': None,\n",
       " 'origin': '110.235.219.122',\n",
       " 'url': 'https://httpbin.org/post'}"
      ]
     },
     "execution_count": 16,
     "metadata": {},
     "output_type": "execute_result"
    }
   ],
   "source": [
    "response.json()"
   ]
  },
  {
   "cell_type": "code",
   "execution_count": 17,
   "id": "dc750c7b",
   "metadata": {},
   "outputs": [
    {
     "data": {
      "text/plain": [
       "'x-www-form-urlencoded'"
      ]
     },
     "execution_count": 17,
     "metadata": {},
     "output_type": "execute_result"
    }
   ],
   "source": [
    "response.json()['headers']['Content-Type'].split(\"/\")[-1]"
   ]
  },
  {
   "cell_type": "code",
   "execution_count": 18,
   "id": "a2f63a14",
   "metadata": {},
   "outputs": [
    {
     "name": "stdout",
     "output_type": "stream",
     "text": [
      "Response data format: x-www-form-urlencoded\n"
     ]
    }
   ],
   "source": [
    "get_data_format(response)"
   ]
  },
  {
   "cell_type": "markdown",
   "id": "a3566122",
   "metadata": {},
   "source": [
    "## 4.2\n",
    "- APIs usually expect data in JSON format\n",
    "- send data in JSON format using POST message"
   ]
  },
  {
   "cell_type": "code",
   "execution_count": 19,
   "id": "14b255b1",
   "metadata": {},
   "outputs": [
    {
     "data": {
      "text/plain": [
       "'https://httpbin.org/post'"
      ]
     },
     "execution_count": 19,
     "metadata": {},
     "output_type": "execute_result"
    }
   ],
   "source": [
    "uri "
   ]
  },
  {
   "cell_type": "code",
   "execution_count": 20,
   "id": "8936d609",
   "metadata": {},
   "outputs": [
    {
     "data": {
      "text/plain": [
       "{'username': 'bruce', 'password': 'bruce123'}"
      ]
     },
     "execution_count": 20,
     "metadata": {},
     "output_type": "execute_result"
    }
   ],
   "source": [
    "data"
   ]
  },
  {
   "cell_type": "code",
   "execution_count": 21,
   "id": "65f917b7",
   "metadata": {},
   "outputs": [],
   "source": [
    "response2 = requests.post(uri, json=data)"
   ]
  },
  {
   "cell_type": "code",
   "execution_count": 22,
   "id": "de7c1046",
   "metadata": {},
   "outputs": [
    {
     "data": {
      "text/plain": [
       "200"
      ]
     },
     "execution_count": 22,
     "metadata": {},
     "output_type": "execute_result"
    }
   ],
   "source": [
    "response2.status_code"
   ]
  },
  {
   "cell_type": "code",
   "execution_count": 23,
   "id": "65e7bfee",
   "metadata": {},
   "outputs": [
    {
     "data": {
      "text/plain": [
       "{'args': {},\n",
       " 'data': '{\"username\": \"bruce\", \"password\": \"bruce123\"}',\n",
       " 'files': {},\n",
       " 'form': {},\n",
       " 'headers': {'Accept': '*/*',\n",
       "  'Accept-Encoding': 'gzip, deflate, br, zstd',\n",
       "  'Content-Length': '45',\n",
       "  'Content-Type': 'application/json',\n",
       "  'Host': 'httpbin.org',\n",
       "  'User-Agent': 'python-requests/2.32.3',\n",
       "  'X-Amzn-Trace-Id': 'Root=1-68bdb46a-4147db3c21d3ed5402c29d94'},\n",
       " 'json': {'password': 'bruce123', 'username': 'bruce'},\n",
       " 'origin': '110.235.219.122',\n",
       " 'url': 'https://httpbin.org/post'}"
      ]
     },
     "execution_count": 23,
     "metadata": {},
     "output_type": "execute_result"
    }
   ],
   "source": [
    "response2.json()"
   ]
  },
  {
   "cell_type": "code",
   "execution_count": 24,
   "id": "3bc22039",
   "metadata": {},
   "outputs": [
    {
     "name": "stdout",
     "output_type": "stream",
     "text": [
      "Response data format: json\n"
     ]
    }
   ],
   "source": [
    "get_data_format(response2)"
   ]
  },
  {
   "cell_type": "markdown",
   "id": "c9ca524d",
   "metadata": {},
   "source": [
    "# 5. PUT\n",
    "## 5.1\n",
    "- use PUT method to update data\n",
    "- address: https://httpbin.org/put"
   ]
  },
  {
   "cell_type": "code",
   "execution_count": 25,
   "id": "6c4c6762",
   "metadata": {},
   "outputs": [],
   "source": [
    "uri = \"https://httpbin.org/put\""
   ]
  },
  {
   "cell_type": "code",
   "execution_count": 26,
   "id": "cdd9497c",
   "metadata": {},
   "outputs": [],
   "source": [
    "data = {\n",
    "\t\"param1\": \"value1\"\n",
    "}"
   ]
  },
  {
   "cell_type": "code",
   "execution_count": 27,
   "id": "8c14385d",
   "metadata": {},
   "outputs": [],
   "source": [
    "response = requests.put(uri, data=data)"
   ]
  },
  {
   "cell_type": "code",
   "execution_count": 28,
   "id": "8c463a9b",
   "metadata": {},
   "outputs": [
    {
     "data": {
      "text/plain": [
       "200"
      ]
     },
     "execution_count": 28,
     "metadata": {},
     "output_type": "execute_result"
    }
   ],
   "source": [
    "response.status_code"
   ]
  },
  {
   "cell_type": "code",
   "execution_count": 29,
   "id": "f97cd45d",
   "metadata": {},
   "outputs": [
    {
     "data": {
      "text/plain": [
       "{'args': {},\n",
       " 'data': '',\n",
       " 'files': {},\n",
       " 'form': {'param1': 'value1'},\n",
       " 'headers': {'Accept': '*/*',\n",
       "  'Accept-Encoding': 'gzip, deflate, br, zstd',\n",
       "  'Content-Length': '13',\n",
       "  'Content-Type': 'application/x-www-form-urlencoded',\n",
       "  'Host': 'httpbin.org',\n",
       "  'User-Agent': 'python-requests/2.32.3',\n",
       "  'X-Amzn-Trace-Id': 'Root=1-68bdb46e-75c673320a806c1f081b7937'},\n",
       " 'json': None,\n",
       " 'origin': '110.235.219.122',\n",
       " 'url': 'https://httpbin.org/put'}"
      ]
     },
     "execution_count": 29,
     "metadata": {},
     "output_type": "execute_result"
    }
   ],
   "source": [
    "response.json()"
   ]
  },
  {
   "cell_type": "markdown",
   "id": "40dd6df6",
   "metadata": {},
   "source": [
    "# 6. DELETE\n",
    "## 6.1\n",
    "- use DELETE method to delete a resource\n",
    "- address: https://httpbin.org/delete"
   ]
  },
  {
   "cell_type": "code",
   "execution_count": 30,
   "id": "fe974f4c",
   "metadata": {},
   "outputs": [],
   "source": [
    "uri = \"https://httpbin.org/delete\""
   ]
  },
  {
   "cell_type": "code",
   "execution_count": 31,
   "id": "64380931",
   "metadata": {},
   "outputs": [],
   "source": [
    "response = requests.delete(uri)"
   ]
  },
  {
   "cell_type": "code",
   "execution_count": 32,
   "id": "4ca84af0",
   "metadata": {},
   "outputs": [
    {
     "data": {
      "text/plain": [
       "200"
      ]
     },
     "execution_count": 32,
     "metadata": {},
     "output_type": "execute_result"
    }
   ],
   "source": [
    "response.status_code"
   ]
  },
  {
   "cell_type": "code",
   "execution_count": 33,
   "id": "5e11cade",
   "metadata": {},
   "outputs": [
    {
     "data": {
      "text/plain": [
       "{'args': {},\n",
       " 'data': '',\n",
       " 'files': {},\n",
       " 'form': {},\n",
       " 'headers': {'Accept': '*/*',\n",
       "  'Accept-Encoding': 'gzip, deflate, br, zstd',\n",
       "  'Content-Length': '0',\n",
       "  'Host': 'httpbin.org',\n",
       "  'User-Agent': 'python-requests/2.32.3',\n",
       "  'X-Amzn-Trace-Id': 'Root=1-68bdb46f-263362d2109ad4c7659efa0c'},\n",
       " 'json': None,\n",
       " 'origin': '110.235.219.122',\n",
       " 'url': 'https://httpbin.org/delete'}"
      ]
     },
     "execution_count": 33,
     "metadata": {},
     "output_type": "execute_result"
    }
   ],
   "source": [
    "response.json()"
   ]
  },
  {
   "cell_type": "markdown",
   "id": "a6495032",
   "metadata": {},
   "source": [
    "# 7. Headers\n",
    "- use a GET request\n",
    "- url: https://httpbin.org/headers"
   ]
  },
  {
   "cell_type": "code",
   "execution_count": 34,
   "id": "d1904a13",
   "metadata": {},
   "outputs": [],
   "source": [
    "headers = {\n",
    "\t'User-Agent': 'Mozilla/5.0 (Windows NT 10.0; Win64; x64)',\n",
    "    'Accept': 'application/json',\n",
    "\t'Authorization': 'Bearer YOUR_ACCESS_TOKEN',\n",
    "\t'Content-Type': 'application/json',\n",
    "\t'X-Custom-Header': 'CustomValue',\n",
    "}"
   ]
  },
  {
   "cell_type": "code",
   "execution_count": 35,
   "id": "8b26a6c6",
   "metadata": {},
   "outputs": [],
   "source": [
    "uri = \"https://httpbin.org/headers\""
   ]
  },
  {
   "cell_type": "code",
   "execution_count": 36,
   "id": "ab366119",
   "metadata": {},
   "outputs": [],
   "source": [
    "response = requests.get(uri, headers=headers)"
   ]
  },
  {
   "cell_type": "code",
   "execution_count": 37,
   "id": "4a8daed4",
   "metadata": {},
   "outputs": [
    {
     "data": {
      "text/plain": [
       "200"
      ]
     },
     "execution_count": 37,
     "metadata": {},
     "output_type": "execute_result"
    }
   ],
   "source": [
    "response.status_code"
   ]
  },
  {
   "cell_type": "code",
   "execution_count": 38,
   "id": "df26ced2",
   "metadata": {},
   "outputs": [
    {
     "name": "stdout",
     "output_type": "stream",
     "text": [
      "{'Date': 'Sun, 07 Sep 2025 16:36:01 GMT', 'Content-Type': 'application/json', 'Content-Length': '397', 'Connection': 'keep-alive', 'Server': 'gunicorn/19.9.0', 'Access-Control-Allow-Origin': '*', 'Access-Control-Allow-Credentials': 'true'}\n"
     ]
    }
   ],
   "source": [
    "pprint(response.headers)"
   ]
  },
  {
   "cell_type": "code",
   "execution_count": 39,
   "id": "2d5b4b07",
   "metadata": {},
   "outputs": [
    {
     "data": {
      "text/plain": [
       "requests.structures.CaseInsensitiveDict"
      ]
     },
     "execution_count": 39,
     "metadata": {},
     "output_type": "execute_result"
    }
   ],
   "source": [
    "type(response.headers)"
   ]
  },
  {
   "cell_type": "code",
   "execution_count": 40,
   "id": "9250bf3a",
   "metadata": {},
   "outputs": [
    {
     "data": {
      "text/plain": [
       "{'Date': 'Sun, 07 Sep 2025 16:36:01 GMT',\n",
       " 'Content-Type': 'application/json',\n",
       " 'Content-Length': '397',\n",
       " 'Connection': 'keep-alive',\n",
       " 'Server': 'gunicorn/19.9.0',\n",
       " 'Access-Control-Allow-Origin': '*',\n",
       " 'Access-Control-Allow-Credentials': 'true'}"
      ]
     },
     "execution_count": 40,
     "metadata": {},
     "output_type": "execute_result"
    }
   ],
   "source": [
    "dict(response.headers)"
   ]
  },
  {
   "cell_type": "code",
   "execution_count": 41,
   "id": "6b0f3fc4",
   "metadata": {},
   "outputs": [
    {
     "data": {
      "text/plain": [
       "{'headers': {'Accept': 'application/json',\n",
       "  'Accept-Encoding': 'gzip, deflate, br, zstd',\n",
       "  'Authorization': 'Bearer YOUR_ACCESS_TOKEN',\n",
       "  'Content-Type': 'application/json',\n",
       "  'Host': 'httpbin.org',\n",
       "  'User-Agent': 'Mozilla/5.0 (Windows NT 10.0; Win64; x64)',\n",
       "  'X-Amzn-Trace-Id': 'Root=1-68bdb471-2b1b10da0fa63c3e72cff1d9',\n",
       "  'X-Custom-Header': 'CustomValue'}}"
      ]
     },
     "execution_count": 41,
     "metadata": {},
     "output_type": "execute_result"
    }
   ],
   "source": [
    "response.json()"
   ]
  },
  {
   "cell_type": "code",
   "execution_count": 42,
   "id": "639f726a",
   "metadata": {},
   "outputs": [
    {
     "name": "stdout",
     "output_type": "stream",
     "text": [
      "Accept          : application/json\n",
      "Accept-Encoding : gzip, deflate, br, zstd\n",
      "Authorization   : Bearer YOUR_ACCESS_TOKEN\n",
      "Content-Type    : application/json\n",
      "Host            : httpbin.org\n",
      "User-Agent      : Mozilla/5.0 (Windows NT 10.0; Win64; x64)\n",
      "X-Amzn-Trace-Id : Root=1-68bdb471-2b1b10da0fa63c3e72cff1d9\n",
      "X-Custom-Header : CustomValue\n"
     ]
    }
   ],
   "source": [
    "for header, value in response.json()['headers'].items():\n",
    "\tprint(f\"{header:<16}: {value}\")"
   ]
  },
  {
   "cell_type": "markdown",
   "id": "5e8064a6",
   "metadata": {},
   "source": [
    "# 8. Response Object\n",
    "- address: https://api.github.com\n",
    "- The most common attributes of the response object are:\n",
    "    - `status_code`: shows the HTTP status code of the request\n",
    "    - `text`: shows the content of the response as a string\n",
    "    - `content`: shows the content of the response as binary data\n",
    "    - `headers`: shows all the response headers\n",
    "    - `json()`: parse the server's response as JSON"
   ]
  },
  {
   "cell_type": "code",
   "execution_count": 43,
   "id": "9be91368",
   "metadata": {},
   "outputs": [],
   "source": [
    "uri = \"https://api.github.com\""
   ]
  },
  {
   "cell_type": "code",
   "execution_count": 44,
   "id": "2e0c7f1b",
   "metadata": {},
   "outputs": [],
   "source": [
    "response = requests.get(uri)"
   ]
  },
  {
   "cell_type": "code",
   "execution_count": 46,
   "id": "3c41119b",
   "metadata": {},
   "outputs": [
    {
     "data": {
      "text/plain": [
       "200"
      ]
     },
     "execution_count": 46,
     "metadata": {},
     "output_type": "execute_result"
    }
   ],
   "source": [
    "response.status_code"
   ]
  },
  {
   "cell_type": "code",
   "execution_count": 47,
   "id": "8fa07906",
   "metadata": {},
   "outputs": [
    {
     "data": {
      "text/plain": [
       "int"
      ]
     },
     "execution_count": 47,
     "metadata": {},
     "output_type": "execute_result"
    }
   ],
   "source": [
    "type(response.status_code)"
   ]
  },
  {
   "cell_type": "code",
   "execution_count": 48,
   "id": "60d4d73c",
   "metadata": {},
   "outputs": [
    {
     "name": "stdout",
     "output_type": "stream",
     "text": [
      "Request was successful.\n"
     ]
    }
   ],
   "source": [
    "if response.status_code == 200: \n",
    "    print(\"Request was successful.\")\n",
    "else:\n",
    "    print(\"Request failed.\")    "
   ]
  },
  {
   "cell_type": "code",
   "execution_count": 50,
   "id": "d555ae59",
   "metadata": {},
   "outputs": [
    {
     "name": "stdout",
     "output_type": "stream",
     "text": [
      "'{\"current_user_url\":\"https://api.github.com/user\",\"current_user_authorizations_html_url\":\"https://github.com/settings/connections/applications{/client_id}\",\"authorizations_url\":\"https://api.github.com/authorizations\",\"code_search_url\":\"https://api.github.com/search/code?q={query}{&page,per_page,sort,order}\",\"commit_search_url\":\"https://api.github.com/search/commits?q={query}{&page,per_page,sort,order}\",\"emails_url\":\"https://api.github.com/user/emails\",\"emojis_url\":\"https://api.github.com/emojis\",\"events_url\":\"https://api.github.com/events\",\"feeds_url\":\"https://api.github.com/feeds\",\"followers_url\":\"https://api.github.com/user/followers\",\"following_url\":\"https://api.github.com/user/following{/target}\",\"gists_url\":\"https://api.github.com/gists{/gist_id}\",\"hub_url\":\"https://api.github.com/hub\",\"issue_search_url\":\"https://api.github.com/search/issues?q={query}{&page,per_page,sort,order}\",\"issues_url\":\"https://api.github.com/issues\",\"keys_url\":\"https://api.github.com/user/keys\",\"label_search_url\":\"https://api.github.com/search/labels?q={query}&repository_id={repository_id}{&page,per_page}\",\"notifications_url\":\"https://api.github.com/notifications\",\"organization_url\":\"https://api.github.com/orgs/{org}\",\"organization_repositories_url\":\"https://api.github.com/orgs/{org}/repos{?type,page,per_page,sort}\",\"organization_teams_url\":\"https://api.github.com/orgs/{org}/teams\",\"public_gists_url\":\"https://api.github.com/gists/public\",\"rate_limit_url\":\"https://api.github.com/rate_limit\",\"repository_url\":\"https://api.github.com/repos/{owner}/{repo}\",\"repository_search_url\":\"https://api.github.com/search/repositories?q={query}{&page,per_page,sort,order}\",\"current_user_repositories_url\":\"https://api.github.com/user/repos{?type,page,per_page,sort}\",\"starred_url\":\"https://api.github.com/user/starred{/owner}{/repo}\",\"starred_gists_url\":\"https://api.github.com/gists/starred\",\"topic_search_url\":\"https://api.github.com/search/topics?q={query}{&page,per_page}\",\"user_url\":\"https://api.github.com/users/{user}\",\"user_organizations_url\":\"https://api.github.com/user/orgs\",\"user_repositories_url\":\"https://api.github.com/users/{user}/repos{?type,page,per_page,sort}\",\"user_search_url\":\"https://api.github.com/search/users?q={query}{&page,per_page,sort,order}\"}'\n"
     ]
    }
   ],
   "source": [
    "pprint(response.text)"
   ]
  },
  {
   "cell_type": "code",
   "execution_count": 52,
   "id": "3dd7f3de",
   "metadata": {},
   "outputs": [
    {
     "data": {
      "text/plain": [
       "str"
      ]
     },
     "execution_count": 52,
     "metadata": {},
     "output_type": "execute_result"
    }
   ],
   "source": [
    "type(response.text)"
   ]
  },
  {
   "cell_type": "code",
   "execution_count": 53,
   "id": "5e740a9a",
   "metadata": {},
   "outputs": [
    {
     "data": {
      "text/plain": [
       "b'{\"current_user_url\":\"https://api.github.com/user\",\"current_user_authorizations_html_url\":\"https://github.com/settings/connections/applications{/client_id}\",\"authorizations_url\":\"https://api.github.com/authorizations\",\"code_search_url\":\"https://api.github.com/search/code?q={query}{&page,per_page,sort,order}\",\"commit_search_url\":\"https://api.github.com/search/commits?q={query}{&page,per_page,sort,order}\",\"emails_url\":\"https://api.github.com/user/emails\",\"emojis_url\":\"https://api.github.com/emojis\",\"events_url\":\"https://api.github.com/events\",\"feeds_url\":\"https://api.github.com/feeds\",\"followers_url\":\"https://api.github.com/user/followers\",\"following_url\":\"https://api.github.com/user/following{/target}\",\"gists_url\":\"https://api.github.com/gists{/gist_id}\",\"hub_url\":\"https://api.github.com/hub\",\"issue_search_url\":\"https://api.github.com/search/issues?q={query}{&page,per_page,sort,order}\",\"issues_url\":\"https://api.github.com/issues\",\"keys_url\":\"https://api.github.com/user/keys\",\"label_search_url\":\"https://api.github.com/search/labels?q={query}&repository_id={repository_id}{&page,per_page}\",\"notifications_url\":\"https://api.github.com/notifications\",\"organization_url\":\"https://api.github.com/orgs/{org}\",\"organization_repositories_url\":\"https://api.github.com/orgs/{org}/repos{?type,page,per_page,sort}\",\"organization_teams_url\":\"https://api.github.com/orgs/{org}/teams\",\"public_gists_url\":\"https://api.github.com/gists/public\",\"rate_limit_url\":\"https://api.github.com/rate_limit\",\"repository_url\":\"https://api.github.com/repos/{owner}/{repo}\",\"repository_search_url\":\"https://api.github.com/search/repositories?q={query}{&page,per_page,sort,order}\",\"current_user_repositories_url\":\"https://api.github.com/user/repos{?type,page,per_page,sort}\",\"starred_url\":\"https://api.github.com/user/starred{/owner}{/repo}\",\"starred_gists_url\":\"https://api.github.com/gists/starred\",\"topic_search_url\":\"https://api.github.com/search/topics?q={query}{&page,per_page}\",\"user_url\":\"https://api.github.com/users/{user}\",\"user_organizations_url\":\"https://api.github.com/user/orgs\",\"user_repositories_url\":\"https://api.github.com/users/{user}/repos{?type,page,per_page,sort}\",\"user_search_url\":\"https://api.github.com/search/users?q={query}{&page,per_page,sort,order}\"}'"
      ]
     },
     "execution_count": 53,
     "metadata": {},
     "output_type": "execute_result"
    }
   ],
   "source": [
    "response.content"
   ]
  },
  {
   "cell_type": "code",
   "execution_count": 55,
   "id": "0c9d3a4e",
   "metadata": {},
   "outputs": [
    {
     "data": {
      "text/plain": [
       "bytes"
      ]
     },
     "execution_count": 55,
     "metadata": {},
     "output_type": "execute_result"
    }
   ],
   "source": [
    "type(response.content)"
   ]
  },
  {
   "cell_type": "code",
   "execution_count": 56,
   "id": "5958ae0c",
   "metadata": {},
   "outputs": [
    {
     "data": {
      "text/plain": [
       "{'Date': 'Sun, 07 Sep 2025 16:44:55 GMT', 'Cache-Control': 'public, max-age=60, s-maxage=60', 'Vary': 'Accept,Accept-Encoding, Accept, X-Requested-With', 'ETag': '\"4f825cc84e1c733059d46e76e6df9db557ae5254f9625dfe8e1b09499c449438\"', 'x-github-api-version-selected': '2022-11-28', 'Access-Control-Expose-Headers': 'ETag, Link, Location, Retry-After, X-GitHub-OTP, X-RateLimit-Limit, X-RateLimit-Remaining, X-RateLimit-Used, X-RateLimit-Resource, X-RateLimit-Reset, X-OAuth-Scopes, X-Accepted-OAuth-Scopes, X-Poll-Interval, X-GitHub-Media-Type, X-GitHub-SSO, X-GitHub-Request-Id, Deprecation, Sunset', 'Access-Control-Allow-Origin': '*', 'Strict-Transport-Security': 'max-age=31536000; includeSubdomains; preload', 'X-Frame-Options': 'deny', 'X-Content-Type-Options': 'nosniff', 'X-XSS-Protection': '0', 'Referrer-Policy': 'origin-when-cross-origin, strict-origin-when-cross-origin', 'Content-Security-Policy': \"default-src 'none'\", 'Server': 'github.com', 'Content-Type': 'application/json; charset=utf-8', 'X-GitHub-Media-Type': 'github.v3; format=json', 'Content-Encoding': 'gzip', 'Accept-Ranges': 'bytes', 'X-RateLimit-Limit': '60', 'X-RateLimit-Remaining': '57', 'X-RateLimit-Reset': '1757266506', 'X-RateLimit-Resource': 'core', 'X-RateLimit-Used': '3', 'Content-Length': '510', 'X-GitHub-Request-Id': 'CB86:1490AA:95D828:C18A00:68BDB696'}"
      ]
     },
     "execution_count": 56,
     "metadata": {},
     "output_type": "execute_result"
    }
   ],
   "source": [
    "response.headers"
   ]
  },
  {
   "cell_type": "code",
   "execution_count": 57,
   "id": "4c18781b",
   "metadata": {},
   "outputs": [
    {
     "data": {
      "text/plain": [
       "requests.structures.CaseInsensitiveDict"
      ]
     },
     "execution_count": 57,
     "metadata": {},
     "output_type": "execute_result"
    }
   ],
   "source": [
    "type(response.headers)"
   ]
  },
  {
   "cell_type": "code",
   "execution_count": 58,
   "id": "608afcf6",
   "metadata": {},
   "outputs": [
    {
     "data": {
      "text/plain": [
       "{'Date': 'Sun, 07 Sep 2025 16:44:55 GMT',\n",
       " 'Cache-Control': 'public, max-age=60, s-maxage=60',\n",
       " 'Vary': 'Accept,Accept-Encoding, Accept, X-Requested-With',\n",
       " 'ETag': '\"4f825cc84e1c733059d46e76e6df9db557ae5254f9625dfe8e1b09499c449438\"',\n",
       " 'x-github-api-version-selected': '2022-11-28',\n",
       " 'Access-Control-Expose-Headers': 'ETag, Link, Location, Retry-After, X-GitHub-OTP, X-RateLimit-Limit, X-RateLimit-Remaining, X-RateLimit-Used, X-RateLimit-Resource, X-RateLimit-Reset, X-OAuth-Scopes, X-Accepted-OAuth-Scopes, X-Poll-Interval, X-GitHub-Media-Type, X-GitHub-SSO, X-GitHub-Request-Id, Deprecation, Sunset',\n",
       " 'Access-Control-Allow-Origin': '*',\n",
       " 'Strict-Transport-Security': 'max-age=31536000; includeSubdomains; preload',\n",
       " 'X-Frame-Options': 'deny',\n",
       " 'X-Content-Type-Options': 'nosniff',\n",
       " 'X-XSS-Protection': '0',\n",
       " 'Referrer-Policy': 'origin-when-cross-origin, strict-origin-when-cross-origin',\n",
       " 'Content-Security-Policy': \"default-src 'none'\",\n",
       " 'Server': 'github.com',\n",
       " 'Content-Type': 'application/json; charset=utf-8',\n",
       " 'X-GitHub-Media-Type': 'github.v3; format=json',\n",
       " 'Content-Encoding': 'gzip',\n",
       " 'Accept-Ranges': 'bytes',\n",
       " 'X-RateLimit-Limit': '60',\n",
       " 'X-RateLimit-Remaining': '57',\n",
       " 'X-RateLimit-Reset': '1757266506',\n",
       " 'X-RateLimit-Resource': 'core',\n",
       " 'X-RateLimit-Used': '3',\n",
       " 'Content-Length': '510',\n",
       " 'X-GitHub-Request-Id': 'CB86:1490AA:95D828:C18A00:68BDB696'}"
      ]
     },
     "execution_count": 58,
     "metadata": {},
     "output_type": "execute_result"
    }
   ],
   "source": [
    "dict(response.headers)"
   ]
  },
  {
   "cell_type": "code",
   "execution_count": 59,
   "id": "897c75b5",
   "metadata": {},
   "outputs": [
    {
     "name": "stdout",
     "output_type": "stream",
     "text": [
      "Date                               : Sun, 07 Sep 2025 16:44:55 GMT\n",
      "Cache-Control                      : public, max-age=60, s-maxage=60\n",
      "Vary                               : Accept,Accept-Encoding, Accept, X-Requested-With\n",
      "ETag                               : \"4f825cc84e1c733059d46e76e6df9db557ae5254f9625dfe8e1b09499c449438\"\n",
      "x-github-api-version-selected      : 2022-11-28\n",
      "Access-Control-Expose-Headers      : ETag, Link, Location, Retry-After, X-GitHub-OTP, X-RateLimit-Limit, X-RateLimit-Remaining, X-RateLimit-Used, X-RateLimit-Resource, X-RateLimit-Reset, X-OAuth-Scopes, X-Accepted-OAuth-Scopes, X-Poll-Interval, X-GitHub-Media-Type, X-GitHub-SSO, X-GitHub-Request-Id, Deprecation, Sunset\n",
      "Access-Control-Allow-Origin        : *\n",
      "Strict-Transport-Security          : max-age=31536000; includeSubdomains; preload\n",
      "X-Frame-Options                    : deny\n",
      "X-Content-Type-Options             : nosniff\n",
      "X-XSS-Protection                   : 0\n",
      "Referrer-Policy                    : origin-when-cross-origin, strict-origin-when-cross-origin\n",
      "Content-Security-Policy            : default-src 'none'\n",
      "Server                             : github.com\n",
      "Content-Type                       : application/json; charset=utf-8\n",
      "X-GitHub-Media-Type                : github.v3; format=json\n",
      "Content-Encoding                   : gzip\n",
      "Accept-Ranges                      : bytes\n",
      "X-RateLimit-Limit                  : 60\n",
      "X-RateLimit-Remaining              : 57\n",
      "X-RateLimit-Reset                  : 1757266506\n",
      "X-RateLimit-Resource               : core\n",
      "X-RateLimit-Used                   : 3\n",
      "Content-Length                     : 510\n",
      "X-GitHub-Request-Id                : CB86:1490AA:95D828:C18A00:68BDB696\n"
     ]
    }
   ],
   "source": [
    "for header, value in dict(response.headers).items():\n",
    "\tprint(f\"{header:<35}: {value}\")"
   ]
  },
  {
   "cell_type": "code",
   "execution_count": 60,
   "id": "79dde5bf",
   "metadata": {},
   "outputs": [
    {
     "data": {
      "text/plain": [
       "{'current_user_url': 'https://api.github.com/user',\n",
       " 'current_user_authorizations_html_url': 'https://github.com/settings/connections/applications{/client_id}',\n",
       " 'authorizations_url': 'https://api.github.com/authorizations',\n",
       " 'code_search_url': 'https://api.github.com/search/code?q={query}{&page,per_page,sort,order}',\n",
       " 'commit_search_url': 'https://api.github.com/search/commits?q={query}{&page,per_page,sort,order}',\n",
       " 'emails_url': 'https://api.github.com/user/emails',\n",
       " 'emojis_url': 'https://api.github.com/emojis',\n",
       " 'events_url': 'https://api.github.com/events',\n",
       " 'feeds_url': 'https://api.github.com/feeds',\n",
       " 'followers_url': 'https://api.github.com/user/followers',\n",
       " 'following_url': 'https://api.github.com/user/following{/target}',\n",
       " 'gists_url': 'https://api.github.com/gists{/gist_id}',\n",
       " 'hub_url': 'https://api.github.com/hub',\n",
       " 'issue_search_url': 'https://api.github.com/search/issues?q={query}{&page,per_page,sort,order}',\n",
       " 'issues_url': 'https://api.github.com/issues',\n",
       " 'keys_url': 'https://api.github.com/user/keys',\n",
       " 'label_search_url': 'https://api.github.com/search/labels?q={query}&repository_id={repository_id}{&page,per_page}',\n",
       " 'notifications_url': 'https://api.github.com/notifications',\n",
       " 'organization_url': 'https://api.github.com/orgs/{org}',\n",
       " 'organization_repositories_url': 'https://api.github.com/orgs/{org}/repos{?type,page,per_page,sort}',\n",
       " 'organization_teams_url': 'https://api.github.com/orgs/{org}/teams',\n",
       " 'public_gists_url': 'https://api.github.com/gists/public',\n",
       " 'rate_limit_url': 'https://api.github.com/rate_limit',\n",
       " 'repository_url': 'https://api.github.com/repos/{owner}/{repo}',\n",
       " 'repository_search_url': 'https://api.github.com/search/repositories?q={query}{&page,per_page,sort,order}',\n",
       " 'current_user_repositories_url': 'https://api.github.com/user/repos{?type,page,per_page,sort}',\n",
       " 'starred_url': 'https://api.github.com/user/starred{/owner}{/repo}',\n",
       " 'starred_gists_url': 'https://api.github.com/gists/starred',\n",
       " 'topic_search_url': 'https://api.github.com/search/topics?q={query}{&page,per_page}',\n",
       " 'user_url': 'https://api.github.com/users/{user}',\n",
       " 'user_organizations_url': 'https://api.github.com/user/orgs',\n",
       " 'user_repositories_url': 'https://api.github.com/users/{user}/repos{?type,page,per_page,sort}',\n",
       " 'user_search_url': 'https://api.github.com/search/users?q={query}{&page,per_page,sort,order}'}"
      ]
     },
     "execution_count": 60,
     "metadata": {},
     "output_type": "execute_result"
    }
   ],
   "source": [
    "response.json()"
   ]
  },
  {
   "cell_type": "code",
   "execution_count": 61,
   "id": "c12b5112",
   "metadata": {},
   "outputs": [
    {
     "data": {
      "text/plain": [
       "{'current_user_url': 'https://api.github.com/user',\n",
       " 'current_user_authorizations_html_url': 'https://github.com/settings/connections/applications{/client_id}',\n",
       " 'authorizations_url': 'https://api.github.com/authorizations',\n",
       " 'code_search_url': 'https://api.github.com/search/code?q={query}{&page,per_page,sort,order}',\n",
       " 'commit_search_url': 'https://api.github.com/search/commits?q={query}{&page,per_page,sort,order}',\n",
       " 'emails_url': 'https://api.github.com/user/emails',\n",
       " 'emojis_url': 'https://api.github.com/emojis',\n",
       " 'events_url': 'https://api.github.com/events',\n",
       " 'feeds_url': 'https://api.github.com/feeds',\n",
       " 'followers_url': 'https://api.github.com/user/followers',\n",
       " 'following_url': 'https://api.github.com/user/following{/target}',\n",
       " 'gists_url': 'https://api.github.com/gists{/gist_id}',\n",
       " 'hub_url': 'https://api.github.com/hub',\n",
       " 'issue_search_url': 'https://api.github.com/search/issues?q={query}{&page,per_page,sort,order}',\n",
       " 'issues_url': 'https://api.github.com/issues',\n",
       " 'keys_url': 'https://api.github.com/user/keys',\n",
       " 'label_search_url': 'https://api.github.com/search/labels?q={query}&repository_id={repository_id}{&page,per_page}',\n",
       " 'notifications_url': 'https://api.github.com/notifications',\n",
       " 'organization_url': 'https://api.github.com/orgs/{org}',\n",
       " 'organization_repositories_url': 'https://api.github.com/orgs/{org}/repos{?type,page,per_page,sort}',\n",
       " 'organization_teams_url': 'https://api.github.com/orgs/{org}/teams',\n",
       " 'public_gists_url': 'https://api.github.com/gists/public',\n",
       " 'rate_limit_url': 'https://api.github.com/rate_limit',\n",
       " 'repository_url': 'https://api.github.com/repos/{owner}/{repo}',\n",
       " 'repository_search_url': 'https://api.github.com/search/repositories?q={query}{&page,per_page,sort,order}',\n",
       " 'current_user_repositories_url': 'https://api.github.com/user/repos{?type,page,per_page,sort}',\n",
       " 'starred_url': 'https://api.github.com/user/starred{/owner}{/repo}',\n",
       " 'starred_gists_url': 'https://api.github.com/gists/starred',\n",
       " 'topic_search_url': 'https://api.github.com/search/topics?q={query}{&page,per_page}',\n",
       " 'user_url': 'https://api.github.com/users/{user}',\n",
       " 'user_organizations_url': 'https://api.github.com/user/orgs',\n",
       " 'user_repositories_url': 'https://api.github.com/users/{user}/repos{?type,page,per_page,sort}',\n",
       " 'user_search_url': 'https://api.github.com/search/users?q={query}{&page,per_page,sort,order}'}"
      ]
     },
     "execution_count": 61,
     "metadata": {},
     "output_type": "execute_result"
    }
   ],
   "source": [
    "dict(response.json())"
   ]
  },
  {
   "cell_type": "markdown",
   "id": "a8fef8c5",
   "metadata": {},
   "source": [
    "# 9. Working with a public API\n",
    "- API: `https://jsonplaceholder.typicode.com/`\n",
    "- endpoint: `posts`\n",
    "- perform error handling: `raise_for_status()`"
   ]
  },
  {
   "cell_type": "code",
   "execution_count": 62,
   "id": "935a08a5",
   "metadata": {},
   "outputs": [],
   "source": [
    "url = \"https://jsonplaceholder.typicode.com/posts\""
   ]
  },
  {
   "cell_type": "markdown",
   "id": "84d2e116",
   "metadata": {},
   "source": [
    "## 9.1\n",
    "- Make a GET request to retrieve a list of posts"
   ]
  },
  {
   "cell_type": "code",
   "execution_count": 68,
   "id": "86b0ec27",
   "metadata": {},
   "outputs": [
    {
     "name": "stdout",
     "output_type": "stream",
     "text": [
      "Status Code: 200\n",
      "\n",
      " Successful GET requests!\n",
      "\n",
      "Post 1:\n",
      "{'userId': 1, 'id': 1, 'title': 'sunt aut facere repellat provident occaecati excepturi optio reprehenderit', 'body': 'quia et suscipit\\nsuscipit recusandae consequuntur expedita et cum\\nreprehenderit molestiae ut ut quas totam\\nnostrum rerum est autem sunt rem eveniet architecto'}\n",
      "\n",
      "Post 2:\n",
      "{'userId': 1, 'id': 2, 'title': 'qui est esse', 'body': 'est rerum tempore vitae\\nsequi sint nihil reprehenderit dolor beatae ea dolores neque\\nfugiat blanditiis voluptate porro vel nihil molestiae ut reiciendis\\nqui aperiam non debitis possimus qui neque nisi nulla'}\n",
      "\n",
      "Post 3:\n",
      "{'userId': 1, 'id': 3, 'title': 'ea molestias quasi exercitationem repellat qui ipsa sit aut', 'body': 'et iusto sed quo iure\\nvoluptatem occaecati omnis eligendi aut ad\\nvoluptatem doloribus vel accusantium quis pariatur\\nmolestiae porro eius odio et labore et velit aut'}\n"
     ]
    }
   ],
   "source": [
    "try:\n",
    "    response = requests.get(url)\n",
    "    response.raise_for_status()\n",
    "except Exception as e:\n",
    "    print(f\"An error occurred: {e}\")\n",
    "\n",
    "else:\n",
    "    status_code = response.status_code\n",
    "    print(f\"Status Code: {status_code}\")\n",
    "    if status_code == 200:\n",
    "        print(\"\\n Successful GET requests!\")\n",
    "        posts = response.json()\n",
    "        for i in range(3):\n",
    "            print(f\"\\nPost {i + 1}:\")\n",
    "            print(posts[i])\n",
    "    else:\n",
    "        print(\"Unsuccessful GET request!\")"
   ]
  },
  {
   "cell_type": "markdown",
   "id": "73e17b7c",
   "metadata": {},
   "source": [
    "## 9.2\n",
    "- Make a POST request to submit a post\n",
    "- include the following parameters:\n",
    "    - `title`\n",
    "    - `body`\n",
    "    - `userId`"
   ]
  },
  {
   "cell_type": "code",
   "execution_count": 69,
   "id": "e5766623",
   "metadata": {},
   "outputs": [],
   "source": [
    "new_post = {\n",
    "\t\"title\": \"Sample Post\",\n",
    "\t\"body\": \"This is a sample post\",\n",
    "\t\"userId\": 101\n",
    "}"
   ]
  },
  {
   "cell_type": "code",
   "execution_count": 70,
   "id": "0e333746",
   "metadata": {},
   "outputs": [
    {
     "name": "stdout",
     "output_type": "stream",
     "text": [
      "Status Code: 201\n",
      "\n",
      "Successful POST request!\n",
      "\n",
      "Post:\n",
      "{'title': 'Sample Post', 'body': 'This is a sample post', 'userId': '101', 'id': 101}\n"
     ]
    }
   ],
   "source": [
    "try:\n",
    "\tresponse = requests.post(url, data=new_post)\n",
    "\tresponse.raise_for_status()\n",
    "except Exception as e:\n",
    "\tprint(e)\n",
    "else:\n",
    "\tstatus_code = response.status_code\n",
    "\tif status_code == 201:\n",
    "\t\tprint(f\"Status Code: {status_code}\")\n",
    "\t\tprint(\"\\nSuccessful POST request!\")\n",
    "\t\tpost = response.json()\n",
    "\t\tprint(\"\\nPost:\")\n",
    "\t\tprint(post)\n",
    "\telse:\n",
    "\t\tprint(f\"Status Code: {status_code}\")\n",
    "\t\tprint(\"\\nUnsuccessful POST request!\")"
   ]
  },
  {
   "cell_type": "code",
   "execution_count": null,
   "id": "8ce1a477",
   "metadata": {},
   "outputs": [],
   "source": []
  }
 ],
 "metadata": {
  "kernelspec": {
   "display_name": "genai",
   "language": "python",
   "name": "python3"
  },
  "language_info": {
   "codemirror_mode": {
    "name": "ipython",
    "version": 3
   },
   "file_extension": ".py",
   "mimetype": "text/x-python",
   "name": "python",
   "nbconvert_exporter": "python",
   "pygments_lexer": "ipython3",
   "version": "3.11.11"
  }
 },
 "nbformat": 4,
 "nbformat_minor": 5
}
